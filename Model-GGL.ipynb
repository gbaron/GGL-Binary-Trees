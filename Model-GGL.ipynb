{
 "cells": [
  {
   "cell_type": "code",
   "execution_count": 24,
   "id": "84428332-da38-496d-af18-0c64a317890f",
   "metadata": {},
   "outputs": [],
   "source": [
    "from sklearn.model_selection import train_test_split\n",
    "from sklearn.linear_model import LinearRegression \n",
    "from sklearn.metrics import mean_squared_error\n",
    "import matplotlib.pyplot as plt\n",
    "import pandas as pd\n",
    "import numpy as np\n",
    "from scipy.stats import gaussian_kde"
   ]
  },
  {
   "cell_type": "code",
   "execution_count": 25,
   "id": "3713f54e-c0ea-478f-a03b-1d3b6cf7b091",
   "metadata": {},
   "outputs": [
    {
     "name": "stderr",
     "output_type": "stream",
     "text": [
      "/var/folders/qw/_3qqgrds2mv69gc5_xmfcrz40000gp/T/ipykernel_42414/4137657116.py:1: DtypeWarning: Columns (21) have mixed types. Specify dtype option on import or set low_memory=False.\n",
      "  data = pd.read_csv('data_30countries.csv')\n"
     ]
    }
   ],
   "source": [
    "data = pd.read_csv('data_30countries.csv')"
   ]
  },
  {
   "cell_type": "code",
   "execution_count": 26,
   "id": "70a9b11c-9283-449f-8c3f-74e8d7dde8e0",
   "metadata": {},
   "outputs": [],
   "source": [
    "data[\"expected_value\"] = data[\"high\"] * data[\"probability\"] + data[\"low\"] * (1- data[\"probability\"])"
   ]
  },
  {
   "cell_type": "markdown",
   "id": "24b4e717-d070-4ebc-8dc2-99c5b23a2af3",
   "metadata": {},
   "source": [
    "# Linear Regression (expected value, CE)"
   ]
  },
  {
   "cell_type": "code",
   "execution_count": 27,
   "id": "4c1cf425-c15d-4d21-8a45-d4a4798a97f9",
   "metadata": {},
   "outputs": [
    {
     "data": {
      "image/png": "[encoded data removed]",
      "text/plain": [
       "<Figure size 432x288 with 1 Axes>"
      ]
     },
     "metadata": {
      "needs_background": "light"
     },
     "output_type": "display_data"
    }
   ],
   "source": [
    "regr = LinearRegression()\n",
    "\n",
    "regr.fit(np.array(data.expected_value).reshape(-1,1),np.array(data.equivalent).reshape(-1,1))\n",
    "\n",
    "plt.scatter(data.expected_value, data.equivalent,color='lightgreen')\n",
    "\n",
    "plt.plot(data.expected_value, regr.predict(np.array(data.expected_value).reshape(-1,1)),color='blue')\n",
    "\n",
    "plt.show()\n"
   ]
  },
  {
   "cell_type": "markdown",
   "id": "42b7cd24-b388-48a8-bd39-67aa37265e9e",
   "metadata": {},
   "source": [
    "# Linear Regression (expected value, maximal payoof, minimal payoff, CE)"
   ]
  },
  {
   "cell_type": "code",
   "execution_count": 28,
   "id": "96c34ad7-98e4-484a-82ba-5cb0bebf82f4",
   "metadata": {},
   "outputs": [
    {
     "name": "stdout",
     "output_type": "stream",
     "text": [
      "MSE = 5.408045217156128\n"
     ]
    },
    {
     "data": {
      "image/png": "[encoded data removed]",
      "text/plain": [
       "<Figure size 432x288 with 1 Axes>"
      ]
     },
     "metadata": {
      "needs_background": "light"
     },
     "output_type": "display_data"
    }
   ],
   "source": [
    "regrMultiple = LinearRegression()\n",
    "\n",
    "inputValues = np.c_[np.array(data.expected_value).reshape(-1,1),np.array(data.high).reshape(-1,1),np.array(data.low).reshape(-1,1)];\n",
    "expectedCE = np.array(data.equivalent).reshape(-1,1);\n",
    "\n",
    "regrMultiple.fit(inputValues,expectedCE)\n",
    "\n",
    "preds = regrMultiple.predict(inputValues)\n",
    "\n",
    "residuals = preds - expectedCE\n",
    "\n",
    "mse = mean_squared_error(expectedCE, preds) ** 0.5\n",
    "print(\"MSE = \" + str(mse))\n",
    "\n",
    "plt.hist(residuals)\n",
    "plt.show()\n"
   ]
  },
  {
   "cell_type": "markdown",
   "id": "52f1653b-3427-4287-aa37-e745f1ce2153",
   "metadata": {},
   "source": [
    "# Linear Regression (possitive_outcome, CE)"
   ]
  },
  {
   "cell_type": "markdown",
   "id": "9c6febd2-0091-4678-aa22-7a42d51a6564",
   "metadata": {},
   "source": [
    "## Adding Binary variables:\n",
    "1. existence of positive outcomes \n",
    "2. existence of negative outcomes \n"
   ]
  },
  {
   "cell_type": "code",
   "execution_count": 29,
   "id": "a51724b1-580a-47cd-82df-5b119a946d80",
   "metadata": {},
   "outputs": [],
   "source": [
    "data[\"possitive_outcome\"] = data[\"high\"] > 0\n",
    "data[\"negative_outcome\"] = data[\"high\"] < 0\n"
   ]
  },
  {
   "cell_type": "code",
   "execution_count": 30,
   "id": "579f7758-3d98-4526-9e4e-b2bad724b0ef",
   "metadata": {
    "tags": []
   },
   "outputs": [
    {
     "data": {
      "image/png": "[encoded data removed]",
      "text/plain": [
       "<Figure size 432x288 with 1 Axes>"
      ]
     },
     "metadata": {
      "needs_background": "light"
     },
     "output_type": "display_data"
    }
   ],
   "source": [
    "regr = LinearRegression()\n",
    "\n",
    "filtered_data = data[data.equiv_nr != 44]\n",
    "\n",
    "regr.fit(np.array(filtered_data.possitive_outcome).reshape(-1,1),np.array(filtered_data.equivalent).reshape(-1,1))\n",
    "\n",
    "plt.scatter(filtered_data.possitive_outcome, filtered_data.equivalent,color='lightgreen')\n",
    "\n",
    "plt.plot(filtered_data.expected_value, regr.predict(np.array(filtered_data.expected_value).reshape(-1,1)),color='blue')\n",
    "plt.xlim([-1, 2])\n",
    "plt.ylim([-25, 35])\n",
    "plt.show()\n"
   ]
  },
  {
   "cell_type": "markdown",
   "id": "e9300620-a711-4a97-b33e-86a7fd593db1",
   "metadata": {},
   "source": [
    "# Linear Regression (negative_outcome, CE)"
   ]
  },
  {
   "cell_type": "code",
   "execution_count": 31,
   "id": "b8ae68cd-769f-485e-8080-959ce22c153e",
   "metadata": {},
   "outputs": [
    {
     "data": {
      "image/png": "[encoded data removed]",
      "text/plain": [
       "<Figure size 432x288 with 1 Axes>"
      ]
     },
     "metadata": {
      "needs_background": "light"
     },
     "output_type": "display_data"
    }
   ],
   "source": [
    "regr = LinearRegression()\n",
    "\n",
    "filtered_data = data[data.equiv_nr != 44]\n",
    "\n",
    "regr.fit(np.array(filtered_data.negative_outcome).reshape(-1,1),np.array(filtered_data.equivalent).reshape(-1,1))\n",
    "\n",
    "plt.scatter(filtered_data.negative_outcome, filtered_data.equivalent,color='red')\n",
    "\n",
    "plt.plot(filtered_data.expected_value, regr.predict(np.array(filtered_data.expected_value).reshape(-1,1)),color='blue')\n",
    "plt.xlim([-1, 2])\n",
    "plt.ylim([-25, 35])\n",
    "plt.show()\n"
   ]
  },
  {
   "cell_type": "markdown",
   "id": "664b7530-9ca9-4cbc-84ca-6086b570d866",
   "metadata": {},
   "source": [
    "# Linear Regression (expected value, maximal payoof, minimal payoff,positive_outcome,negative_outcome, CE)"
   ]
  },
  {
   "cell_type": "code",
   "execution_count": 33,
   "id": "7f2b2192-b1ad-4cc6-9659-1cbd8a47c56c",
   "metadata": {},
   "outputs": [
    {
     "name": "stdout",
     "output_type": "stream",
     "text": [
      "MSE = 3.9307214383886033\n"
     ]
    },
    {
     "data": {
      "image/png": "[encoded data removed]",
      "text/plain": [
       "<Figure size 432x288 with 1 Axes>"
      ]
     },
     "metadata": {
      "needs_background": "light"
     },
     "output_type": "display_data"
    }
   ],
   "source": [
    "regrMultiple = LinearRegression()\n",
    "\n",
    "filtered_data = data[data.equiv_nr != 44]\n",
    "\n",
    "inputValues = np.c_[np.array(filtered_data.expected_value).reshape(-1,1),\n",
    "                    np.array(filtered_data.high).reshape(-1,1),\n",
    "                    np.array(filtered_data.low).reshape(-1,1),\n",
    "                    np.array(filtered_data.possitive_outcome).reshape(-1,1),\n",
    "                    np.array(filtered_data.negative_outcome).reshape(-1,1)];\n",
    "\n",
    "expectedCE = np.array(filtered_data.equivalent).reshape(-1,1);\n",
    "\n",
    "regrMultiple.fit(inputValues,expectedCE)\n",
    "\n",
    "preds = regrMultiple.predict(inputValues)\n",
    "\n",
    "residuals = preds - expectedCE\n",
    "\n",
    "mse = mean_squared_error(expectedCE, preds) ** 0.5\n",
    "print(\"MSE = \" + str(mse))\n",
    "\n",
    "plt.hist(residuals)\n",
    "plt.show()\n"
   ]
  },
  {
   "cell_type": "code",
   "execution_count": null,
   "id": "9390ebe2-7fe6-4f7b-8a09-01f29fef2122",
   "metadata": {},
   "outputs": [],
   "source": []
  }
 ],
 "metadata": {
  "kernelspec": {
   "display_name": "Python 3 (ipykernel)",
   "language": "python",
   "name": "python3"
  },
  "language_info": {
   "codemirror_mode": {
    "name": "ipython",
    "version": 3
   },
   "file_extension": ".py",
   "mimetype": "text/x-python",
   "name": "python",
   "nbconvert_exporter": "python",
   "pygments_lexer": "ipython3",
   "version": "3.9.9"
  }
 },
 "nbformat": 4,
 "nbformat_minor": 5
}
