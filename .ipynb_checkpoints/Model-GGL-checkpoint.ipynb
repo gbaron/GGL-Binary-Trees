{
 "cells": [
  {
   "cell_type": "code",
   "execution_count": 1,
   "id": "84428332-da38-496d-af18-0c64a317890f",
   "metadata": {},
   "outputs": [],
   "source": [
    "from sklearn.model_selection import train_test_split\n",
    "from sklearn.linear_model import LinearRegression \n",
    "from sklearn.metrics import mean_squared_error\n",
    "import matplotlib.pyplot as plt\n",
    "import pandas as pd\n",
    "import numpy as np"
   ]
  },
  {
   "cell_type": "code",
   "execution_count": 2,
   "id": "3713f54e-c0ea-478f-a03b-1d3b6cf7b091",
   "metadata": {},
   "outputs": [
    {
     "name": "stderr",
     "output_type": "stream",
     "text": [
      "/var/folders/qw/_3qqgrds2mv69gc5_xmfcrz40000gp/T/ipykernel_20171/4137657116.py:1: DtypeWarning: Columns (21) have mixed types. Specify dtype option on import or set low_memory=False.\n",
      "  data = pd.read_csv('data_30countries.csv')\n"
     ]
    }
   ],
   "source": [
    "data = pd.read_csv('data_30countries.csv')"
   ]
  },
  {
   "cell_type": "code",
   "execution_count": 3,
   "id": "70a9b11c-9283-449f-8c3f-74e8d7dde8e0",
   "metadata": {},
   "outputs": [],
   "source": [
    "data[\"expected_value\"] = data[\"high\"] * data[\"probability\"] + data[\"low\"] * (1- data[\"probability\"])"
   ]
  },
  {
   "cell_type": "code",
   "execution_count": 4,
   "id": "4c1cf425-c15d-4d21-8a45-d4a4798a97f9",
   "metadata": {},
   "outputs": [
    {
     "data": {
      "image/png": "[encoded data removed]",
      "text/plain": [
       "<Figure size 432x288 with 1 Axes>"
      ]
     },
     "metadata": {
      "needs_background": "light"
     },
     "output_type": "display_data"
    }
   ],
   "source": [
    "regr = LinearRegression()\n",
    "\n",
    "regr.fit(np.array(data.expected_value).reshape(-1,1),np.array(data.equivalent).reshape(-1,1))\n",
    "\n",
    "plt.scatter(data.expected_value, data.equivalent,color='lightgreen')\n",
    "\n",
    "plt.plot(data.expected_value, regr.predict(np.array(data.expected_value).reshape(-1,1)),color='blue')\n",
    "\n",
    "plt.show()\n"
   ]
  },
  {
   "cell_type": "code",
   "execution_count": 5,
   "id": "96c34ad7-98e4-484a-82ba-5cb0bebf82f4",
   "metadata": {},
   "outputs": [
    {
     "name": "stdout",
     "output_type": "stream",
     "text": [
      "MSE = 5.408045217156128\n"
     ]
    },
    {
     "data": {
      "image/png": "[encoded data removed]",
      "text/plain": [
       "<Figure size 432x288 with 1 Axes>"
      ]
     },
     "metadata": {
      "needs_background": "light"
     },
     "output_type": "display_data"
    }
   ],
   "source": [
    "regrMultiple = LinearRegression()\n",
    "\n",
    "inputValues = np.c_[np.array(data.expected_value).reshape(-1,1),np.array(data.high).reshape(-1,1),np.array(data.low).reshape(-1,1)];\n",
    "expectedCE = np.array(data.equivalent).reshape(-1,1);\n",
    "\n",
    "regrMultiple.fit(inputValues,expectedCE)\n",
    "\n",
    "preds = regrMultiple.predict(inputValues)\n",
    "\n",
    "residuals = preds - expectedCE\n",
    "\n",
    "mse = mean_squared_error(expectedCE, preds) ** 0.5\n",
    "print(\"MSE = \" + str(mse))\n",
    "\n",
    "plt.hist(residuals)\n",
    "plt.show()\n"
   ]
  }
 ],
 "metadata": {
  "kernelspec": {
   "display_name": "Python 3 (ipykernel)",
   "language": "python",
   "name": "python3"
  },
  "language_info": {
   "codemirror_mode": {
    "name": "ipython",
    "version": 3
   },
   "file_extension": ".py",
   "mimetype": "text/x-python",
   "name": "python",
   "nbconvert_exporter": "python",
   "pygments_lexer": "ipython3",
   "version": "3.9.9"
  }
 },
 "nbformat": 4,
 "nbformat_minor": 5
}
