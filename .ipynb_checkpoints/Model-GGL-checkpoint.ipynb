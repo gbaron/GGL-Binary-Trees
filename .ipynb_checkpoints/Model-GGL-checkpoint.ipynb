{
 "cells": [
  {
   "cell_type": "code",
   "execution_count": 18,
   "id": "84428332-da38-496d-af18-0c64a317890f",
   "metadata": {},
   "outputs": [],
   "source": [
    "from sklearn.model_selection import train_test_split\n",
    "from sklearn.linear_model import LinearRegression \n",
    "from sklearn.metrics import mean_squared_error\n",
    "import matplotlib.pyplot as plt\n",
    "import pandas as pd\n",
    "import numpy as np\n",
    "from scipy.stats import gaussian_kde\n",
    "import time"
   ]
  },
  {
   "cell_type": "code",
   "execution_count": 2,
   "id": "3713f54e-c0ea-478f-a03b-1d3b6cf7b091",
   "metadata": {},
   "outputs": [
    {
     "name": "stderr",
     "output_type": "stream",
     "text": [
      "/var/folders/qw/_3qqgrds2mv69gc5_xmfcrz40000gp/T/ipykernel_10304/4137657116.py:1: DtypeWarning: Columns (21) have mixed types. Specify dtype option on import or set low_memory=False.\n",
      "  data = pd.read_csv('data_30countries.csv')\n"
     ]
    }
   ],
   "source": [
    "data = pd.read_csv('data_30countries.csv')"
   ]
  },
  {
   "cell_type": "markdown",
   "id": "3afd248e-b30f-477e-bf2e-1d0e08fba756",
   "metadata": {},
   "source": [
    "### Calculating the Expected Value"
   ]
  },
  {
   "cell_type": "code",
   "execution_count": 3,
   "id": "70a9b11c-9283-449f-8c3f-74e8d7dde8e0",
   "metadata": {},
   "outputs": [],
   "source": [
    "data[\"expected_value\"] = data[\"high\"] * data[\"probability\"] + data[\"low\"] * (1- data[\"probability\"])"
   ]
  },
  {
   "cell_type": "markdown",
   "id": "ed58f307-6139-4ea4-b926-c577a0451d4c",
   "metadata": {},
   "source": [
    "### Calculating the Variance (sum(pi(xi-x_bar)^2))"
   ]
  },
  {
   "cell_type": "code",
   "execution_count": 6,
   "id": "0af40e4e-e3a0-4e8e-96cd-6bb8303a0054",
   "metadata": {},
   "outputs": [],
   "source": [
    "data[\"variance\"] = (((data[\"high\"] - data[\"expected_value\"])**2) * data[\"probability\"]) + \\\n",
    "                    (((data[\"low\"] - data[\"expected_value\"])**2) * (1-data[\"probability\"]))"
   ]
  },
  {
   "cell_type": "markdown",
   "id": "9c6febd2-0091-4678-aa22-7a42d51a6564",
   "metadata": {},
   "source": [
    "### Calculating Binary variables\n",
    "1. existence of positive outcomes \n",
    "2. existence of negative outcomes \n"
   ]
  },
  {
   "cell_type": "code",
   "execution_count": 15,
   "id": "a51724b1-580a-47cd-82df-5b119a946d80",
   "metadata": {},
   "outputs": [],
   "source": [
    "data[\"positive_outcome\"] = data[\"high\"] > 0\n",
    "data[\"negative_outcome\"] = data[\"high\"] < 0\n"
   ]
  },
  {
   "cell_type": "markdown",
   "id": "cee30caa-62fb-4138-baa4-320359c4ff99",
   "metadata": {},
   "source": [
    "### Selecting relevant columns"
   ]
  },
  {
   "cell_type": "code",
   "execution_count": 23,
   "id": "25d9360c-6cba-4511-acde-37280ca93814",
   "metadata": {},
   "outputs": [
    {
     "data": {
      "text/html": [
       "<div>\n",
       "<style scoped>\n",
       "    .dataframe tbody tr th:only-of-type {\n",
       "        vertical-align: middle;\n",
       "    }\n",
       "\n",
       "    .dataframe tbody tr th {\n",
       "        vertical-align: top;\n",
       "    }\n",
       "\n",
       "    .dataframe thead th {\n",
       "        text-align: right;\n",
       "    }\n",
       "</style>\n",
       "<table border=\"1\" class=\"dataframe\">\n",
       "  <thead>\n",
       "    <tr style=\"text-align: right;\">\n",
       "      <th></th>\n",
       "      <th>subject_global</th>\n",
       "      <th>equiv_nr</th>\n",
       "      <th>high</th>\n",
       "      <th>low</th>\n",
       "      <th>probability</th>\n",
       "      <th>equivalent</th>\n",
       "      <th>expected_value</th>\n",
       "      <th>variance</th>\n",
       "      <th>positive_outcome</th>\n",
       "      <th>negative_outcome</th>\n",
       "    </tr>\n",
       "  </thead>\n",
       "  <tbody>\n",
       "    <tr>\n",
       "      <th>0</th>\n",
       "      <td>1</td>\n",
       "      <td>1</td>\n",
       "      <td>5</td>\n",
       "      <td>0</td>\n",
       "      <td>0.500</td>\n",
       "      <td>4.25</td>\n",
       "      <td>2.500</td>\n",
       "      <td>6.250000</td>\n",
       "      <td>True</td>\n",
       "      <td>False</td>\n",
       "    </tr>\n",
       "    <tr>\n",
       "      <th>1</th>\n",
       "      <td>1</td>\n",
       "      <td>2</td>\n",
       "      <td>10</td>\n",
       "      <td>0</td>\n",
       "      <td>0.500</td>\n",
       "      <td>4.75</td>\n",
       "      <td>5.000</td>\n",
       "      <td>25.000000</td>\n",
       "      <td>True</td>\n",
       "      <td>False</td>\n",
       "    </tr>\n",
       "    <tr>\n",
       "      <th>2</th>\n",
       "      <td>1</td>\n",
       "      <td>3</td>\n",
       "      <td>20</td>\n",
       "      <td>0</td>\n",
       "      <td>0.500</td>\n",
       "      <td>8.75</td>\n",
       "      <td>10.000</td>\n",
       "      <td>100.000000</td>\n",
       "      <td>True</td>\n",
       "      <td>False</td>\n",
       "    </tr>\n",
       "    <tr>\n",
       "      <th>3</th>\n",
       "      <td>1</td>\n",
       "      <td>4</td>\n",
       "      <td>30</td>\n",
       "      <td>0</td>\n",
       "      <td>0.500</td>\n",
       "      <td>12.25</td>\n",
       "      <td>15.000</td>\n",
       "      <td>225.000000</td>\n",
       "      <td>True</td>\n",
       "      <td>False</td>\n",
       "    </tr>\n",
       "    <tr>\n",
       "      <th>4</th>\n",
       "      <td>1</td>\n",
       "      <td>5</td>\n",
       "      <td>30</td>\n",
       "      <td>10</td>\n",
       "      <td>0.500</td>\n",
       "      <td>13.75</td>\n",
       "      <td>20.000</td>\n",
       "      <td>100.000000</td>\n",
       "      <td>True</td>\n",
       "      <td>False</td>\n",
       "    </tr>\n",
       "    <tr>\n",
       "      <th>5</th>\n",
       "      <td>1</td>\n",
       "      <td>6</td>\n",
       "      <td>30</td>\n",
       "      <td>20</td>\n",
       "      <td>0.500</td>\n",
       "      <td>21.75</td>\n",
       "      <td>25.000</td>\n",
       "      <td>25.000000</td>\n",
       "      <td>True</td>\n",
       "      <td>False</td>\n",
       "    </tr>\n",
       "    <tr>\n",
       "      <th>6</th>\n",
       "      <td>1</td>\n",
       "      <td>7</td>\n",
       "      <td>20</td>\n",
       "      <td>0</td>\n",
       "      <td>0.125</td>\n",
       "      <td>14.75</td>\n",
       "      <td>2.500</td>\n",
       "      <td>43.750000</td>\n",
       "      <td>True</td>\n",
       "      <td>False</td>\n",
       "    </tr>\n",
       "    <tr>\n",
       "      <th>7</th>\n",
       "      <td>1</td>\n",
       "      <td>8</td>\n",
       "      <td>20</td>\n",
       "      <td>5</td>\n",
       "      <td>0.125</td>\n",
       "      <td>14.75</td>\n",
       "      <td>6.875</td>\n",
       "      <td>24.609375</td>\n",
       "      <td>True</td>\n",
       "      <td>False</td>\n",
       "    </tr>\n",
       "    <tr>\n",
       "      <th>8</th>\n",
       "      <td>1</td>\n",
       "      <td>9</td>\n",
       "      <td>20</td>\n",
       "      <td>0</td>\n",
       "      <td>0.250</td>\n",
       "      <td>7.25</td>\n",
       "      <td>5.000</td>\n",
       "      <td>75.000000</td>\n",
       "      <td>True</td>\n",
       "      <td>False</td>\n",
       "    </tr>\n",
       "    <tr>\n",
       "      <th>9</th>\n",
       "      <td>1</td>\n",
       "      <td>10</td>\n",
       "      <td>20</td>\n",
       "      <td>0</td>\n",
       "      <td>0.375</td>\n",
       "      <td>9.75</td>\n",
       "      <td>7.500</td>\n",
       "      <td>93.750000</td>\n",
       "      <td>True</td>\n",
       "      <td>False</td>\n",
       "    </tr>\n",
       "  </tbody>\n",
       "</table>\n",
       "</div>"
      ],
      "text/plain": [
       "   subject_global  equiv_nr  high  low  probability  equivalent  \\\n",
       "0               1         1     5    0        0.500        4.25   \n",
       "1               1         2    10    0        0.500        4.75   \n",
       "2               1         3    20    0        0.500        8.75   \n",
       "3               1         4    30    0        0.500       12.25   \n",
       "4               1         5    30   10        0.500       13.75   \n",
       "5               1         6    30   20        0.500       21.75   \n",
       "6               1         7    20    0        0.125       14.75   \n",
       "7               1         8    20    5        0.125       14.75   \n",
       "8               1         9    20    0        0.250        7.25   \n",
       "9               1        10    20    0        0.375        9.75   \n",
       "\n",
       "   expected_value    variance  positive_outcome  negative_outcome  \n",
       "0           2.500    6.250000              True             False  \n",
       "1           5.000   25.000000              True             False  \n",
       "2          10.000  100.000000              True             False  \n",
       "3          15.000  225.000000              True             False  \n",
       "4          20.000  100.000000              True             False  \n",
       "5          25.000   25.000000              True             False  \n",
       "6           2.500   43.750000              True             False  \n",
       "7           6.875   24.609375              True             False  \n",
       "8           5.000   75.000000              True             False  \n",
       "9           7.500   93.750000              True             False  "
      ]
     },
     "execution_count": 23,
     "metadata": {},
     "output_type": "execute_result"
    }
   ],
   "source": [
    "data.head(2)\n",
    "selected_data = data[[\"subject_global\", \"equiv_nr\",\"high\",\"low\",\"probability\",\"equivalent\",\"expected_value\",\"variance\",\"positive_outcome\",\"negative_outcome\"]]\n",
    "selected_data.head(10)"
   ]
  },
  {
   "cell_type": "markdown",
   "id": "d4b8b80b-aff3-43b7-bd41-b49b1233224a",
   "metadata": {},
   "source": [
    "### Exporting to Excel"
   ]
  },
  {
   "cell_type": "code",
   "execution_count": 24,
   "id": "5d42443d-810d-40d5-bc81-e31aebf9b503",
   "metadata": {},
   "outputs": [],
   "source": [
    "selected_data.to_excel(\"selected_data\" + str(int(time.time())) + \".xlsx\")  "
   ]
  },
  {
   "cell_type": "markdown",
   "id": "24b4e717-d070-4ebc-8dc2-99c5b23a2af3",
   "metadata": {},
   "source": [
    "# Linear Regression (expected value, CE)"
   ]
  },
  {
   "cell_type": "code",
   "execution_count": 27,
   "id": "4c1cf425-c15d-4d21-8a45-d4a4798a97f9",
   "metadata": {},
   "outputs": [
    {
     "data": {
      "image/png": "[encoded data removed]",
      "text/plain": [
       "<Figure size 432x288 with 1 Axes>"
      ]
     },
     "metadata": {
      "needs_background": "light"
     },
     "output_type": "display_data"
    }
   ],
   "source": [
    "regr = LinearRegression()\n",
    "\n",
    "regr.fit(np.array(data.expected_value).reshape(-1,1),np.array(data.equivalent).reshape(-1,1))\n",
    "\n",
    "plt.scatter(data.expected_value, data.equivalent,color='lightgreen')\n",
    "\n",
    "plt.plot(data.expected_value, regr.predict(np.array(data.expected_value).reshape(-1,1)),color='blue')\n",
    "\n",
    "plt.show()\n"
   ]
  },
  {
   "cell_type": "markdown",
   "id": "42b7cd24-b388-48a8-bd39-67aa37265e9e",
   "metadata": {},
   "source": [
    "# Linear Regression (expected value, maximal payoof, minimal payoff, CE)"
   ]
  },
  {
   "cell_type": "code",
   "execution_count": 28,
   "id": "96c34ad7-98e4-484a-82ba-5cb0bebf82f4",
   "metadata": {},
   "outputs": [
    {
     "name": "stdout",
     "output_type": "stream",
     "text": [
      "MSE = 5.408045217156128\n"
     ]
    },
    {
     "data": {
      "image/png": "[encoded data removed]",
      "text/plain": [
       "<Figure size 432x288 with 1 Axes>"
      ]
     },
     "metadata": {
      "needs_background": "light"
     },
     "output_type": "display_data"
    }
   ],
   "source": [
    "regrMultiple = LinearRegression()\n",
    "\n",
    "inputValues = np.c_[np.array(data.expected_value).reshape(-1,1),np.array(data.high).reshape(-1,1),np.array(data.low).reshape(-1,1)];\n",
    "expectedCE = np.array(data.equivalent).reshape(-1,1);\n",
    "\n",
    "regrMultiple.fit(inputValues,expectedCE)\n",
    "\n",
    "preds = regrMultiple.predict(inputValues)\n",
    "\n",
    "residuals = preds - expectedCE\n",
    "\n",
    "mse = mean_squared_error(expectedCE, preds) ** 0.5\n",
    "print(\"MSE = \" + str(mse))\n",
    "\n",
    "plt.hist(residuals)\n",
    "plt.show()\n"
   ]
  },
  {
   "cell_type": "markdown",
   "id": "52f1653b-3427-4287-aa37-e745f1ce2153",
   "metadata": {},
   "source": [
    "# Linear Regression (possitive_outcome, CE)"
   ]
  },
  {
   "cell_type": "code",
   "execution_count": 30,
   "id": "579f7758-3d98-4526-9e4e-b2bad724b0ef",
   "metadata": {
    "tags": []
   },
   "outputs": [
    {
     "data": {
      "image/png": "[encoded data removed]",
      "text/plain": [
       "<Figure size 432x288 with 1 Axes>"
      ]
     },
     "metadata": {
      "needs_background": "light"
     },
     "output_type": "display_data"
    }
   ],
   "source": [
    "regr = LinearRegression()\n",
    "\n",
    "filtered_data = data[data.equiv_nr != 44]\n",
    "\n",
    "regr.fit(np.array(filtered_data.possitive_outcome).reshape(-1,1),np.array(filtered_data.equivalent).reshape(-1,1))\n",
    "\n",
    "plt.scatter(filtered_data.possitive_outcome, filtered_data.equivalent,color='lightgreen')\n",
    "\n",
    "plt.plot(filtered_data.expected_value, regr.predict(np.array(filtered_data.expected_value).reshape(-1,1)),color='blue')\n",
    "plt.xlim([-1, 2])\n",
    "plt.ylim([-25, 35])\n",
    "plt.show()\n"
   ]
  },
  {
   "cell_type": "markdown",
   "id": "e9300620-a711-4a97-b33e-86a7fd593db1",
   "metadata": {},
   "source": [
    "# Linear Regression (negative_outcome, CE)"
   ]
  },
  {
   "cell_type": "code",
   "execution_count": 31,
   "id": "b8ae68cd-769f-485e-8080-959ce22c153e",
   "metadata": {},
   "outputs": [
    {
     "data": {
      "image/png": "[encoded data removed]",
      "text/plain": [
       "<Figure size 432x288 with 1 Axes>"
      ]
     },
     "metadata": {
      "needs_background": "light"
     },
     "output_type": "display_data"
    }
   ],
   "source": [
    "regr = LinearRegression()\n",
    "\n",
    "filtered_data = data[data.equiv_nr != 44]\n",
    "\n",
    "regr.fit(np.array(filtered_data.negative_outcome).reshape(-1,1),np.array(filtered_data.equivalent).reshape(-1,1))\n",
    "\n",
    "plt.scatter(filtered_data.negative_outcome, filtered_data.equivalent,color='red')\n",
    "\n",
    "plt.plot(filtered_data.expected_value, regr.predict(np.array(filtered_data.expected_value).reshape(-1,1)),color='blue')\n",
    "plt.xlim([-1, 2])\n",
    "plt.ylim([-25, 35])\n",
    "plt.show()\n"
   ]
  },
  {
   "cell_type": "markdown",
   "id": "664b7530-9ca9-4cbc-84ca-6086b570d866",
   "metadata": {},
   "source": [
    "# Linear Regression (expected value, maximal payoof, minimal payoff,positive_outcome,negative_outcome, CE)"
   ]
  },
  {
   "cell_type": "code",
   "execution_count": 33,
   "id": "7f2b2192-b1ad-4cc6-9659-1cbd8a47c56c",
   "metadata": {},
   "outputs": [
    {
     "name": "stdout",
     "output_type": "stream",
     "text": [
      "MSE = 3.9307214383886033\n"
     ]
    },
    {
     "data": {
      "image/png": "[encoded data removed]",
      "text/plain": [
       "<Figure size 432x288 with 1 Axes>"
      ]
     },
     "metadata": {
      "needs_background": "light"
     },
     "output_type": "display_data"
    }
   ],
   "source": [
    "regrMultiple = LinearRegression()\n",
    "\n",
    "filtered_data = data[data.equiv_nr != 44]\n",
    "\n",
    "inputValues = np.c_[np.array(filtered_data.expected_value).reshape(-1,1),\n",
    "                    np.array(filtered_data.high).reshape(-1,1),\n",
    "                    np.array(filtered_data.low).reshape(-1,1),\n",
    "                    np.array(filtered_data.possitive_outcome).reshape(-1,1),\n",
    "                    np.array(filtered_data.negative_outcome).reshape(-1,1)];\n",
    "\n",
    "expectedCE = np.array(filtered_data.equivalent).reshape(-1,1);\n",
    "\n",
    "regrMultiple.fit(inputValues,expectedCE)\n",
    "\n",
    "preds = regrMultiple.predict(inputValues)\n",
    "\n",
    "residuals = preds - expectedCE\n",
    "\n",
    "mse = mean_squared_error(expectedCE, preds) ** 0.5\n",
    "print(\"MSE = \" + str(mse))\n",
    "\n",
    "plt.hist(residuals)\n",
    "plt.show()\n"
   ]
  },
  {
   "cell_type": "markdown",
   "id": "3920084f-91a9-4d05-bb24-f666fc0b250e",
   "metadata": {},
   "source": [
    "# Linear Regression (expected value, maximal payoof, minimal payoff,positive_outcome, CE)"
   ]
  },
  {
   "cell_type": "code",
   "execution_count": 35,
   "id": "9a06b4e0-8ebe-4361-9039-39add2fad5d0",
   "metadata": {},
   "outputs": [
    {
     "name": "stdout",
     "output_type": "stream",
     "text": [
      "MSE = 3.9307214383886038\n"
     ]
    },
    {
     "data": {
      "image/png": "[encoded data removed]",
      "text/plain": [
       "<Figure size 432x288 with 1 Axes>"
      ]
     },
     "metadata": {
      "needs_background": "light"
     },
     "output_type": "display_data"
    }
   ],
   "source": [
    "regrMultiple = LinearRegression()\n",
    "\n",
    "filtered_data = data[data.equiv_nr != 44]\n",
    "\n",
    "inputValues = np.c_[np.array(filtered_data.expected_value).reshape(-1,1),\n",
    "                    np.array(filtered_data.high).reshape(-1,1),\n",
    "                    np.array(filtered_data.low).reshape(-1,1),\n",
    "                    np.array(filtered_data.possitive_outcome).reshape(-1,1)];\n",
    "\n",
    "expectedCE = np.array(filtered_data.equivalent).reshape(-1,1);\n",
    "\n",
    "regrMultiple.fit(inputValues,expectedCE)\n",
    "\n",
    "preds = regrMultiple.predict(inputValues)\n",
    "\n",
    "residuals = preds - expectedCE\n",
    "\n",
    "mse = mean_squared_error(expectedCE, preds) ** 0.5\n",
    "print(\"MSE = \" + str(mse))\n",
    "\n",
    "plt.hist(residuals)\n",
    "plt.show()\n"
   ]
  },
  {
   "cell_type": "markdown",
   "id": "56d741bf-020b-4177-ab88-b6f3478da797",
   "metadata": {},
   "source": [
    "# Linear Regression (expected value, maximal payoof, minimal payoff,negative_outcome, CE)"
   ]
  },
  {
   "cell_type": "code",
   "execution_count": 36,
   "id": "0808faed-f8f0-4b46-93ab-554574f00005",
   "metadata": {},
   "outputs": [
    {
     "name": "stdout",
     "output_type": "stream",
     "text": [
      "MSE = 3.9307214383886038\n"
     ]
    },
    {
     "data": {
      "image/png": "[encoded data removed]",
      "text/plain": [
       "<Figure size 432x288 with 1 Axes>"
      ]
     },
     "metadata": {
      "needs_background": "light"
     },
     "output_type": "display_data"
    }
   ],
   "source": [
    "regrMultiple = LinearRegression()\n",
    "\n",
    "filtered_data = data[data.equiv_nr != 44]\n",
    "\n",
    "inputValues = np.c_[np.array(filtered_data.expected_value).reshape(-1,1),\n",
    "                    np.array(filtered_data.high).reshape(-1,1),\n",
    "                    np.array(filtered_data.low).reshape(-1,1),\n",
    "                    np.array(filtered_data.negative_outcome).reshape(-1,1)];\n",
    "\n",
    "expectedCE = np.array(filtered_data.equivalent).reshape(-1,1);\n",
    "\n",
    "regrMultiple.fit(inputValues,expectedCE)\n",
    "\n",
    "preds = regrMultiple.predict(inputValues)\n",
    "\n",
    "residuals = preds - expectedCE\n",
    "\n",
    "mse = mean_squared_error(expectedCE, preds) ** 0.5\n",
    "print(\"MSE = \" + str(mse))\n",
    "\n",
    "plt.hist(residuals)\n",
    "plt.show()\n"
   ]
  },
  {
   "cell_type": "code",
   "execution_count": null,
   "id": "bd7aa07f-f3ee-4a36-a74e-9d26141af870",
   "metadata": {},
   "outputs": [],
   "source": []
  }
 ],
 "metadata": {
  "kernelspec": {
   "display_name": "Python 3 (ipykernel)",
   "language": "python",
   "name": "python3"
  },
  "language_info": {
   "codemirror_mode": {
    "name": "ipython",
    "version": 3
   },
   "file_extension": ".py",
   "mimetype": "text/x-python",
   "name": "python",
   "nbconvert_exporter": "python",
   "pygments_lexer": "ipython3",
   "version": "3.9.9"
  }
 },
 "nbformat": 4,
 "nbformat_minor": 5
}
