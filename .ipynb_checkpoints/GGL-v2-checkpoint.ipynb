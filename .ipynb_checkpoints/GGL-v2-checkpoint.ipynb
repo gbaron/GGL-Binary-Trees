{
 "cells": [
  {
   "cell_type": "code",
   "execution_count": 118,
   "id": "3a435059-5f2e-412c-a7d1-993445831d20",
   "metadata": {},
   "outputs": [],
   "source": [
    "import pandas as pd\n",
    "import statsmodels.api as sm"
   ]
  },
  {
   "cell_type": "code",
   "execution_count": 119,
   "id": "fe3259bb-98e7-4416-862e-8a3f8cfe3f58",
   "metadata": {},
   "outputs": [
    {
     "name": "stderr",
     "output_type": "stream",
     "text": [
      "/var/folders/qw/_3qqgrds2mv69gc5_xmfcrz40000gp/T/ipykernel_78114/2109864802.py:1: DtypeWarning: Columns (21) have mixed types. Specify dtype option on import or set low_memory=False.\n",
      "  raw_data = pd.read_csv('data_30countries.csv')\n"
     ]
    },
    {
     "data": {
      "text/html": [
       "<div>\n",
       "<style scoped>\n",
       "    .dataframe tbody tr th:only-of-type {\n",
       "        vertical-align: middle;\n",
       "    }\n",
       "\n",
       "    .dataframe tbody tr th {\n",
       "        vertical-align: top;\n",
       "    }\n",
       "\n",
       "    .dataframe thead th {\n",
       "        text-align: right;\n",
       "    }\n",
       "</style>\n",
       "<table border=\"1\" class=\"dataframe\">\n",
       "  <thead>\n",
       "    <tr style=\"text-align: right;\">\n",
       "      <th></th>\n",
       "      <th>subject_global</th>\n",
       "      <th>equiv_nr</th>\n",
       "      <th>high</th>\n",
       "      <th>low</th>\n",
       "      <th>probability</th>\n",
       "      <th>equivalent</th>\n",
       "    </tr>\n",
       "  </thead>\n",
       "  <tbody>\n",
       "    <tr>\n",
       "      <th>0</th>\n",
       "      <td>1</td>\n",
       "      <td>1</td>\n",
       "      <td>5</td>\n",
       "      <td>0</td>\n",
       "      <td>0.5</td>\n",
       "      <td>4.25</td>\n",
       "    </tr>\n",
       "    <tr>\n",
       "      <th>1</th>\n",
       "      <td>1</td>\n",
       "      <td>2</td>\n",
       "      <td>10</td>\n",
       "      <td>0</td>\n",
       "      <td>0.5</td>\n",
       "      <td>4.75</td>\n",
       "    </tr>\n",
       "    <tr>\n",
       "      <th>2</th>\n",
       "      <td>1</td>\n",
       "      <td>3</td>\n",
       "      <td>20</td>\n",
       "      <td>0</td>\n",
       "      <td>0.5</td>\n",
       "      <td>8.75</td>\n",
       "    </tr>\n",
       "    <tr>\n",
       "      <th>3</th>\n",
       "      <td>1</td>\n",
       "      <td>4</td>\n",
       "      <td>30</td>\n",
       "      <td>0</td>\n",
       "      <td>0.5</td>\n",
       "      <td>12.25</td>\n",
       "    </tr>\n",
       "    <tr>\n",
       "      <th>4</th>\n",
       "      <td>1</td>\n",
       "      <td>5</td>\n",
       "      <td>30</td>\n",
       "      <td>10</td>\n",
       "      <td>0.5</td>\n",
       "      <td>13.75</td>\n",
       "    </tr>\n",
       "  </tbody>\n",
       "</table>\n",
       "</div>"
      ],
      "text/plain": [
       "   subject_global  equiv_nr  high  low  probability  equivalent\n",
       "0               1         1     5    0          0.5        4.25\n",
       "1               1         2    10    0          0.5        4.75\n",
       "2               1         3    20    0          0.5        8.75\n",
       "3               1         4    30    0          0.5       12.25\n",
       "4               1         5    30   10          0.5       13.75"
      ]
     },
     "execution_count": 119,
     "metadata": {},
     "output_type": "execute_result"
    }
   ],
   "source": [
    "raw_data = pd.read_csv('data_30countries.csv')\n",
    "data = raw_data[[\"subject_global\", \"equiv_nr\",\"high\",\"low\",\"probability\",\"equivalent\"]].copy()\n",
    "data.head()"
   ]
  },
  {
   "cell_type": "code",
   "execution_count": 120,
   "id": "05182fd0-8d6f-4cf9-8159-874e5b2a6dfe",
   "metadata": {},
   "outputs": [],
   "source": [
    "data[\"expected_value\"] = data[\"high\"] * data[\"probability\"] + data[\"low\"] * (1- data[\"probability\"])\n",
    "\n",
    "data[\"variance\"] = (((data[\"high\"] - data[\"expected_value\"])**2) * data[\"probability\"]) + \\\n",
    "                    (((data[\"low\"] - data[\"expected_value\"])**2) * (1-data[\"probability\"]))\n",
    "\n",
    "data[\"pos_outcome\"] = data.apply(lambda row: 1 if row.high > 0 else 0, axis=1)\n",
    "\n",
    "data[\"neg_outcome\"] = data.apply(lambda row: 1 if row.high < 0 else 0, axis=1)\n",
    "\n",
    "## 05_prob which is assigned the value 1 if the probability of winning or losing is 0.5 and assigned zero otherwise \n",
    "data[\"prob_05\"] = data.apply(lambda row: 1 if row.probability == 0.5 else 0, axis=1)\n",
    "\n",
    "## low_prob-  is assigned the value 1 for lotteries with a zero outcome and another outcome whose probability of winning or losing is 0.125 , and is assigned the value zero otherwise.\n",
    "data['low_prob'] = data.apply(lambda row: 1 if row.low == 0 and row.probability == 0.125 else 0, axis=1)\n",
    "\n",
    "## high_prob- is assigned the value 1 for lotteries with a zero outcome and another outcome whose probability of winning or losing is 0.875 , and is assigned the value zero otherwise.\n",
    "data['high_prob'] = data.apply(lambda row: 1 if row.low == 0 and row.probability == 0.875 else 0, axis=1)\n",
    "\n",
    "##Let v00=1 if both 0.5_probability=0 and pos_outcome=0 and 0 otherwise, \n",
    "data['v00'] = data.apply(lambda row: 1 if row.prob_05 == 0 and row.pos_outcome == 0 else 0, axis=1)\n",
    "\n",
    "##v01=1 if both 0.5_probability=0 pos_outcome=1, \n",
    "data['v01'] = data.apply(lambda row: 1 if row.prob_05 == 0 and row.pos_outcome == 1 else 0, axis=1)\n",
    "\n",
    "##v10=1 if 0.5_probability=1 and pos_outcome=0 and 0 otherwise,\n",
    "data['v10'] = data.apply(lambda row: 1 if row.prob_05 == 1 and row.pos_outcome == 0 else 0, axis=1)\n",
    "\n",
    "##and v10=1 if 0.5_probability=1 and pos_outcome=1 and 0 otherwise.\n",
    "data['v11'] = data.apply(lambda row: 1 if row.prob_05 == 1 and row.pos_outcome == 1 else 0, axis=1)"
   ]
  },
  {
   "cell_type": "code",
   "execution_count": 121,
   "id": "ae111961-4fec-4b28-ae40-22a6165a0073",
   "metadata": {},
   "outputs": [],
   "source": [
    "# The predictors are Expected_value, Variance, High, Low, as well as the products of each of these with each of v01,v10,v11\n",
    "original_predictor = ['expected_value', 'variance', 'high',\"low\"]\n",
    "branches = [\"v00\",\"v01\",\"v10\",\"v11\"]\n",
    "predictors = [*original_predictor,*branches]\n",
    "\n",
    "for p in original_predictor:\n",
    "    for b in branches:\n",
    "        new_col_name = p+\"_\"+b\n",
    "        predictors.append(new_col_name)\n",
    "        data[new_col_name] = data[p] * data[b]"
   ]
  },
  {
   "cell_type": "code",
   "execution_count": 122,
   "id": "c1c50937-85f1-49e8-b93d-8094fc538f7b",
   "metadata": {},
   "outputs": [
    {
     "name": "stdout",
     "output_type": "stream",
     "text": [
      "                            OLS Regression Results                            \n",
      "==============================================================================\n",
      "Dep. Variable:             equivalent   R-squared:                       0.837\n",
      "Model:                            OLS   Adj. R-squared:                  0.837\n",
      "Method:                 Least Squares   F-statistic:                 2.807e+04\n",
      "Date:                Thu, 10 Mar 2022   Prob (F-statistic):               0.00\n",
      "Time:                        22:43:39   Log-Likelihood:            -2.4701e+05\n",
      "No. Observations:               81720   AIC:                         4.941e+05\n",
      "Df Residuals:                   81704   BIC:                         4.942e+05\n",
      "Df Model:                          15                                         \n",
      "Covariance Type:            nonrobust                                         \n",
      "======================================================================================\n",
      "                         coef    std err          t      P>|t|      [0.025      0.975]\n",
      "--------------------------------------------------------------------------------------\n",
      "const                  3.0252      0.106     28.444      0.000       2.817       3.234\n",
      "expected_value         0.5339      0.003    168.398      0.000       0.528       0.540\n",
      "variance               0.0335      0.002     18.258      0.000       0.030       0.037\n",
      "high                  -0.2536      0.012    -21.090      0.000      -0.277      -0.230\n",
      "low                    0.5279      0.015     35.686      0.000       0.499       0.557\n",
      "v00                   -0.0269      0.001    -48.311      0.000      -0.028      -0.026\n",
      "v01                    0.0159      0.001     18.837      0.000       0.014       0.018\n",
      "v10                   -3.7635      0.194    -19.369      0.000      -4.144      -3.383\n",
      "v11                    6.7997      0.138     49.286      0.000       6.529       7.070\n",
      "expected_value_v00     0.1970      0.005     42.031      0.000       0.188       0.206\n",
      "expected_value_v01     0.1519      0.005     32.406      0.000       0.143       0.161\n",
      "expected_value_v10     0.0278      0.004      7.198      0.000       0.020       0.035\n",
      "expected_value_v11     0.1572      0.002     67.869      0.000       0.153       0.162\n",
      "variance_v00          -0.0304      0.002    -13.162      0.000      -0.035      -0.026\n",
      "variance_v01          -0.0552      0.002    -23.886      0.000      -0.060      -0.051\n",
      "variance_v10          -0.0475      0.007     -6.948      0.000      -0.061      -0.034\n",
      "variance_v11           0.1666      0.003     64.970      0.000       0.162       0.172\n",
      "high_v00               0.5390      0.011     48.311      0.000       0.517       0.561\n",
      "high_v01               0.3184      0.017     18.837      0.000       0.285       0.352\n",
      "high_v10               0.3632      0.045      8.130      0.000       0.276       0.451\n",
      "high_v11              -1.4741      0.020    -74.464      0.000      -1.513      -1.435\n",
      "low_v00               -0.4745      0.023    -20.952      0.000      -0.519      -0.430\n",
      "low_v01               -0.4786      0.023    -21.139      0.000      -0.523      -0.434\n",
      "low_v10               -0.3076      0.050     -6.209      0.000      -0.405      -0.211\n",
      "low_v11                1.7886      0.022     82.338      0.000       1.746       1.831\n",
      "==============================================================================\n",
      "Omnibus:                     7651.930   Durbin-Watson:                   1.269\n",
      "Prob(Omnibus):                  0.000   Jarque-Bera (JB):            26216.438\n",
      "Skew:                          -0.460   Prob(JB):                         0.00\n",
      "Kurtosis:                       5.618   Cond. No.                     5.87e+17\n",
      "==============================================================================\n",
      "\n",
      "Notes:\n",
      "[1] Standard Errors assume that the covariance matrix of the errors is correctly specified.\n",
      "[2] The smallest eigenvalue is 1.96e-27. This might indicate that there are\n",
      "strong multicollinearity problems or that the design matrix is singular.\n"
     ]
    }
   ],
   "source": [
    "X = data[[*predictors]]\n",
    "Y = data[['equivalent']]\n",
    "X = sm.add_constant(X)\n",
    "\n",
    "model = sm.OLS(Y, X).fit()\n",
    "print(model.summary())"
   ]
  },
  {
   "cell_type": "code",
   "execution_count": 123,
   "id": "cbc2b94b-0ec4-4194-82cf-9735ca7b0bac",
   "metadata": {},
   "outputs": [],
   "source": [
    "def coef_equal(c1,c2):\n",
    "    test_params = np.zeros_like(model.params)\n",
    "    test_params[X.columns.get_loc(c1)] = 1\n",
    "    test_params[X.columns.get_loc(c2)] = -1\n",
    "    return test_params"
   ]
  },
  {
   "cell_type": "markdown",
   "id": "07a8c5fd-3f76-4099-86d8-7cad7b60cacf",
   "metadata": {},
   "source": [
    "### F test for h0"
   ]
  },
  {
   "cell_type": "code",
   "execution_count": null,
   "id": "50b78b82-00c2-4568-b1ad-dbe17d3180b1",
   "metadata": {},
   "outputs": [
    {
     "name": "stdout",
     "output_type": "stream",
     "text": [
      "<F test: F=2141.423435447551, p=0.0, df_denom=8.17e+04, df_num=4>\n"
     ]
    },
    {
     "name": "stderr",
     "output_type": "stream",
     "text": [
      "/usr/local/lib/python3.9/site-packages/statsmodels/base/model.py:1871: ValueWarning: covariance of constraints does not have full rank. The number of constraints is 5, but rank is 4\n",
      "  warnings.warn('covariance of constraints does not have full '\n"
     ]
    }
   ],
   "source": [
    "h0 = np.empty([5,len(model.params)])\n",
    "h0[0] = coef_equal('v10','v11')\n",
    "h0[1] = coef_equal('expected_value_v10','expected_value_v11')\n",
    "h0[2] = coef_equal('variance_v10','variance_v11')\n",
    "h0[3] = coef_equal('high_v10','high_v11')\n",
    "h0[4] = coef_equal('low_v10','low_v11')\n",
    "\n",
    "print(model.f_test(h0).summary())\n"
   ]
  },
  {
   "cell_type": "code",
   "execution_count": null,
   "id": "4308a1c5-6f92-4561-9bb0-5b2a63fb1185",
   "metadata": {},
   "outputs": [],
   "source": []
  }
 ],
 "metadata": {
  "kernelspec": {
   "display_name": "Python 3 (ipykernel)",
   "language": "python",
   "name": "python3"
  },
  "language_info": {
   "codemirror_mode": {
    "name": "ipython",
    "version": 3
   },
   "file_extension": ".py",
   "mimetype": "text/x-python",
   "name": "python",
   "nbconvert_exporter": "python",
   "pygments_lexer": "ipython3",
   "version": "3.9.9"
  }
 },
 "nbformat": 4,
 "nbformat_minor": 5
}
